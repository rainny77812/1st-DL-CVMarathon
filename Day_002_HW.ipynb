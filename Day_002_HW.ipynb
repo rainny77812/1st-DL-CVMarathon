{
 "cells": [
  {
   "cell_type": "markdown",
   "metadata": {},
   "source": [
    "## [作業目標]\n",
    "了解機器學習適合應用的領域與範疇。"
   ]
  },
  {
   "cell_type": "markdown",
   "metadata": {},
   "source": [
    "## [作業重點]\n",
    "透過瞭解機器學習的運作方式，找出非常適用機器學習應用的領域及其原因"
   ]
  },
  {
   "cell_type": "markdown",
   "metadata": {},
   "source": [
    "## 作業\n",
    "請找出一個你認為機器學習可以發光發熱的領域並闡述原因? "
   ]
  },
  {
   "cell_type": "markdown",
   "metadata": {},
   "source": [
    "在汽車自動駕駛的開發方面，如果用條件式的程式來進行決策，是無法完全覆蓋所有狀況的，這種複雜的問題應該是機器學習可以很好的發揮的地方，使用機器學習的技術，透過在車上的各種感測器，如：超音波探頭感測距離、行車影像判別物體、速度與加速度規監測目前車子狀況等等，讓電腦了解目前車子所處的環境，然後自己控制車子最佳的動向，在未來自駕車將會是趨勢，技術成熟後將無須人類進行操控。"
   ]
  }
 ],
 "metadata": {
  "kernelspec": {
   "display_name": "Python 3",
   "language": "python",
   "name": "python3"
  },
  "language_info": {
   "codemirror_mode": {
    "name": "ipython",
    "version": 3
   },
   "file_extension": ".py",
   "mimetype": "text/x-python",
   "name": "python",
   "nbconvert_exporter": "python",
   "pygments_lexer": "ipython3",
   "version": "3.7.3"
  }
 },
 "nbformat": 4,
 "nbformat_minor": 2
}
